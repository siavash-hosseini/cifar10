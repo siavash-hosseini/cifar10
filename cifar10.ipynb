{
  "nbformat": 4,
  "nbformat_minor": 0,
  "metadata": {
    "colab": {
      "provenance": []
    },
    "kernelspec": {
      "name": "python3",
      "display_name": "Python 3"
    },
    "language_info": {
      "name": "python"
    },
    "accelerator": "GPU"
  },
  "cells": [
    {
      "cell_type": "code",
      "source": [
        "import numpy as np\n",
        "import tensorflow as tf\n",
        "import matplotlib.pyplot as plt\n",
        "from keras.datasets import cifar10\n",
        "from keras.utils.np_utils import to_categorical\n"
      ],
      "metadata": {
        "id": "wb6Fd75yhnaM"
      },
      "execution_count": null,
      "outputs": []
    },
    {
      "cell_type": "code",
      "source": [
        "(X_train, y_train), (X_test, y_test) = cifar10.load_data()\n",
        "X_train = X_train.astype('float32')\n",
        "X_test = X_test.astype('float32')\n",
        "\n",
        "y_train =to_categorical(y_train, 10)\n",
        "y_test = to_categorical(y_test, 10)"
      ],
      "metadata": {
        "id": "wnvQg-m1g-Ml",
        "colab": {
          "base_uri": "https://localhost:8080/"
        },
        "outputId": "cc53abf2-3418-441e-c4df-01a9dbda6d3c"
      },
      "execution_count": null,
      "outputs": [
        {
          "output_type": "stream",
          "name": "stdout",
          "text": [
            "Downloading data from https://www.cs.toronto.edu/~kriz/cifar-10-python.tar.gz\n",
            "170500096/170498071 [==============================] - 2s 0us/step\n",
            "170508288/170498071 [==============================] - 2s 0us/step\n"
          ]
        }
      ]
    },
    {
      "cell_type": "code",
      "source": [
        "core = tf.keras.applications.densenet.DenseNet121(weights='imagenet',include_top=False,input_shape=X_train.shape[1:])\n",
        "for layer in core.layers:\n",
        "  layer.trainable = True\n",
        "\n",
        "def get_model(input_shape = X_train.shape[1:]):\n",
        "  input_layer = tf.keras.layers.Input(input_shape)\n",
        "  x = tf.keras.applications.densenet.preprocess_input(input_layer)\n",
        "  x = core(x)\n",
        "  x = tf.keras.layers.GlobalAveragePooling2D()(x)\n",
        "  x = tf.keras.layers.BatchNormalization()(x)\n",
        "  x = tf.keras.layers.Dense(units=10, activation='softmax')(x)\n",
        "  model = tf.keras.models.Model(inputs = input_layer, outputs = x)\n",
        "  model.summary()\n",
        "  return model\n",
        "\n",
        "model = get_model()"
      ],
      "metadata": {
        "colab": {
          "base_uri": "https://localhost:8080/"
        },
        "id": "zCG9Xe-p73LB",
        "outputId": "8f664aea-91fc-4a64-cb40-6391d8e1d153"
      },
      "execution_count": null,
      "outputs": [
        {
          "output_type": "stream",
          "name": "stdout",
          "text": [
            "Downloading data from https://storage.googleapis.com/tensorflow/keras-applications/densenet/densenet121_weights_tf_dim_ordering_tf_kernels_notop.h5\n",
            "29089792/29084464 [==============================] - 0s 0us/step\n",
            "29097984/29084464 [==============================] - 0s 0us/step\n",
            "Model: \"model\"\n",
            "_________________________________________________________________\n",
            " Layer (type)                Output Shape              Param #   \n",
            "=================================================================\n",
            " input_2 (InputLayer)        [(None, 32, 32, 3)]       0         \n",
            "                                                                 \n",
            " tf.math.truediv (TFOpLambda  (None, 32, 32, 3)        0         \n",
            " )                                                               \n",
            "                                                                 \n",
            " tf.nn.bias_add (TFOpLambda)  (None, 32, 32, 3)        0         \n",
            "                                                                 \n",
            " tf.math.truediv_1 (TFOpLamb  (None, 32, 32, 3)        0         \n",
            " da)                                                             \n",
            "                                                                 \n",
            " densenet121 (Functional)    (None, 1, 1, 1024)        7037504   \n",
            "                                                                 \n",
            " global_average_pooling2d (G  (None, 1024)             0         \n",
            " lobalAveragePooling2D)                                          \n",
            "                                                                 \n",
            " batch_normalization (BatchN  (None, 1024)             4096      \n",
            " ormalization)                                                   \n",
            "                                                                 \n",
            " dense (Dense)               (None, 10)                10250     \n",
            "                                                                 \n",
            "=================================================================\n",
            "Total params: 7,051,850\n",
            "Trainable params: 6,966,154\n",
            "Non-trainable params: 85,696\n",
            "_________________________________________________________________\n"
          ]
        }
      ]
    },
    {
      "cell_type": "code",
      "source": [
        "model.compile(loss='categorical_crossentropy', optimizer= 'adam' , metrics=['mse','mae','accuracy'])"
      ],
      "metadata": {
        "id": "OrMgxgtsOUfC"
      },
      "execution_count": null,
      "outputs": []
    },
    {
      "cell_type": "code",
      "source": [
        "callbacks = [tf.keras.callbacks.ModelCheckpoint('/content/transfer_learning_weights.h5', monitor='val_acc', save_best_only=True),\n",
        "             tf.keras.callbacks.EarlyStopping(monitor='val_loss', patience=4, verbose=1, mode = 'min'), \n",
        "             tf.keras.callbacks.ReduceLROnPlateau(monitor=\"val_loss\", mode = \"min\", patience=2)]\n",
        "    \n",
        "history = model.fit(X_train, y_train, epochs=20, batch_size=32, verbose=1, validation_split = 0.2, callbacks = callbacks)  "
      ],
      "metadata": {
        "colab": {
          "base_uri": "https://localhost:8080/"
        },
        "id": "QnGhhkNQOfuX",
        "outputId": "7e3a9714-5348-4b78-9053-91f559b249ea"
      },
      "execution_count": null,
      "outputs": [
        {
          "output_type": "stream",
          "name": "stdout",
          "text": [
            "Epoch 1/20\n",
            "1250/1250 [==============================] - ETA: 0s - loss: 1.3530 - mse: 0.0598 - mae: 0.1157 - accuracy: 0.5407WARNING:tensorflow:Can save best model only with val_acc available, skipping.\n",
            "1250/1250 [==============================] - 144s 96ms/step - loss: 1.3530 - mse: 0.0598 - mae: 0.1157 - accuracy: 0.5407 - val_loss: 1.1469 - val_mse: 0.0529 - val_mae: 0.0984 - val_accuracy: 0.6065 - lr: 0.0010\n",
            "Epoch 2/20\n",
            "1250/1250 [==============================] - ETA: 0s - loss: 0.9719 - mse: 0.0448 - mae: 0.0867 - accuracy: 0.6710WARNING:tensorflow:Can save best model only with val_acc available, skipping.\n",
            "1250/1250 [==============================] - 117s 94ms/step - loss: 0.9719 - mse: 0.0448 - mae: 0.0867 - accuracy: 0.6710 - val_loss: 1.2067 - val_mse: 0.0468 - val_mae: 0.0860 - val_accuracy: 0.6626 - lr: 0.0010\n",
            "Epoch 3/20\n",
            "1250/1250 [==============================] - ETA: 0s - loss: 0.7699 - mse: 0.0362 - mae: 0.0707 - accuracy: 0.7412WARNING:tensorflow:Can save best model only with val_acc available, skipping.\n",
            "1250/1250 [==============================] - 116s 93ms/step - loss: 0.7699 - mse: 0.0362 - mae: 0.0707 - accuracy: 0.7412 - val_loss: 0.8267 - val_mse: 0.0381 - val_mae: 0.0712 - val_accuracy: 0.7294 - lr: 0.0010\n",
            "Epoch 4/20\n",
            "1250/1250 [==============================] - ETA: 0s - loss: 0.7678 - mse: 0.0362 - mae: 0.0700 - accuracy: 0.7376WARNING:tensorflow:Can save best model only with val_acc available, skipping.\n",
            "1250/1250 [==============================] - 117s 93ms/step - loss: 0.7678 - mse: 0.0362 - mae: 0.0700 - accuracy: 0.7376 - val_loss: 1.9187 - val_mse: 0.0552 - val_mae: 0.0866 - val_accuracy: 0.6299 - lr: 0.0010\n",
            "Epoch 5/20\n",
            "1250/1250 [==============================] - ETA: 0s - loss: 0.5921 - mse: 0.0285 - mae: 0.0562 - accuracy: 0.7979WARNING:tensorflow:Can save best model only with val_acc available, skipping.\n",
            "1250/1250 [==============================] - 116s 93ms/step - loss: 0.5921 - mse: 0.0285 - mae: 0.0562 - accuracy: 0.7979 - val_loss: 1.3413 - val_mse: 0.0442 - val_mae: 0.0726 - val_accuracy: 0.7015 - lr: 0.0010\n",
            "Epoch 6/20\n",
            "1250/1250 [==============================] - ETA: 0s - loss: 0.3595 - mse: 0.0176 - mae: 0.0382 - accuracy: 0.8783WARNING:tensorflow:Can save best model only with val_acc available, skipping.\n",
            "1250/1250 [==============================] - 116s 93ms/step - loss: 0.3595 - mse: 0.0176 - mae: 0.0382 - accuracy: 0.8783 - val_loss: 0.4714 - val_mse: 0.0230 - val_mae: 0.0426 - val_accuracy: 0.8405 - lr: 1.0000e-04\n",
            "Epoch 7/20\n",
            "1250/1250 [==============================] - ETA: 0s - loss: 0.2800 - mse: 0.0138 - mae: 0.0302 - accuracy: 0.9060WARNING:tensorflow:Can save best model only with val_acc available, skipping.\n",
            "1250/1250 [==============================] - 117s 93ms/step - loss: 0.2800 - mse: 0.0138 - mae: 0.0302 - accuracy: 0.9060 - val_loss: 0.4744 - val_mse: 0.0228 - val_mae: 0.0402 - val_accuracy: 0.8397 - lr: 1.0000e-04\n",
            "Epoch 8/20\n",
            "1250/1250 [==============================] - ETA: 0s - loss: 0.2244 - mse: 0.0111 - mae: 0.0248 - accuracy: 0.9247WARNING:tensorflow:Can save best model only with val_acc available, skipping.\n",
            "1250/1250 [==============================] - 116s 92ms/step - loss: 0.2244 - mse: 0.0111 - mae: 0.0248 - accuracy: 0.9247 - val_loss: 0.4931 - val_mse: 0.0234 - val_mae: 0.0391 - val_accuracy: 0.8375 - lr: 1.0000e-04\n",
            "Epoch 9/20\n",
            "1250/1250 [==============================] - ETA: 0s - loss: 0.1619 - mse: 0.0079 - mae: 0.0197 - accuracy: 0.9477WARNING:tensorflow:Can save best model only with val_acc available, skipping.\n",
            "1250/1250 [==============================] - 116s 93ms/step - loss: 0.1619 - mse: 0.0079 - mae: 0.0197 - accuracy: 0.9477 - val_loss: 0.4809 - val_mse: 0.0229 - val_mae: 0.0379 - val_accuracy: 0.8403 - lr: 1.0000e-05\n",
            "Epoch 10/20\n",
            "1250/1250 [==============================] - ETA: 0s - loss: 0.1487 - mse: 0.0072 - mae: 0.0182 - accuracy: 0.9536WARNING:tensorflow:Can save best model only with val_acc available, skipping.\n",
            "1250/1250 [==============================] - 116s 93ms/step - loss: 0.1487 - mse: 0.0072 - mae: 0.0182 - accuracy: 0.9536 - val_loss: 0.4862 - val_mse: 0.0230 - val_mae: 0.0377 - val_accuracy: 0.8405 - lr: 1.0000e-05\n",
            "Epoch 00010: early stopping\n"
          ]
        }
      ]
    },
    {
      "cell_type": "code",
      "source": [
        "history.history.keys()"
      ],
      "metadata": {
        "id": "Qkk1Qdjrfzan",
        "colab": {
          "base_uri": "https://localhost:8080/"
        },
        "outputId": "8ec8c670-b592-4171-ba24-6f44bf1413f1"
      },
      "execution_count": null,
      "outputs": [
        {
          "output_type": "execute_result",
          "data": {
            "text/plain": [
              "dict_keys(['loss', 'mse', 'mae', 'accuracy', 'val_loss', 'val_mse', 'val_mae', 'val_accuracy', 'lr'])"
            ]
          },
          "metadata": {},
          "execution_count": 6
        }
      ]
    },
    {
      "cell_type": "code",
      "source": [
        "plt.plot(history.history['loss'])\n",
        "plt.plot(history.history['val_loss'])\n",
        "plt.title('model mse')\n",
        "plt.ylabel('mse')\n",
        "plt.xlabel('epoch')\n",
        "plt.legend(['train', 'validation'], loc='upper right')\n",
        "plt.show()"
      ],
      "metadata": {
        "id": "djeMbYTXgJQp",
        "colab": {
          "base_uri": "https://localhost:8080/",
          "height": 295
        },
        "outputId": "31e7950c-8d03-452d-f0fe-260d25020638"
      },
      "execution_count": null,
      "outputs": [
        {
          "output_type": "display_data",
          "data": {
            "image/png": "[encoded data removed]",
            "text/plain": [
              "<Figure size 432x288 with 1 Axes>"
            ]
          },
          "metadata": {
            "needs_background": "light"
          }
        }
      ]
    },
    {
      "cell_type": "code",
      "source": [
        "plt.plot(history.history['accuracy'])\n",
        "plt.plot(history.history['val_accuracy'])\n",
        "plt.title('model accuracy')\n",
        "plt.ylabel('accuracy')\n",
        "plt.xlabel('epoch')\n",
        "plt.legend(['train', 'validation'], loc='upper left')\n",
        "plt.show()"
      ],
      "metadata": {
        "id": "vlVC3FW2nz4c",
        "colab": {
          "base_uri": "https://localhost:8080/",
          "height": 295
        },
        "outputId": "cf863997-cd1f-40c5-f2f2-742a2c2bece1"
      },
      "execution_count": null,
      "outputs": [
        {
          "output_type": "display_data",
          "data": {
            "image/png": "[encoded data removed]",
            "text/plain": [
              "<Figure size 432x288 with 1 Axes>"
            ]
          },
          "metadata": {
            "needs_background": "light"
          }
        }
      ]
    },
    {
      "cell_type": "code",
      "source": [],
      "metadata": {
        "id": "TRwrtUYaVYme"
      },
      "execution_count": null,
      "outputs": []
    }
  ]
}